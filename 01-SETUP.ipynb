{
 "cells": [
  {
   "cell_type": "code",
   "execution_count": 1,
   "id": "f0b06da4",
   "metadata": {},
   "outputs": [],
   "source": [
    "from snowflake.snowpark.session import Session\n",
    "from snowflake.snowpark import functions as F\n",
    "from snowflake.snowpark.types import *\n",
    "\n",
    "import pandas as pd\n",
    "\n",
    "from sklearn import linear_model\n",
    "\n",
    "import matplotlib.pyplot as plt\n",
    "\n",
    "%matplotlib inline\n",
    "import datetime as dt\n",
    "import numpy as np\n",
    "import seaborn as sns\n",
    "\n",
    "#Snowflake connection info is saved in config.py\n",
    "from config import snowflake_conn_prop\n",
    "\n",
    "\n",
    "# lets import some tranformations functions\n",
    "from snowflake.snowpark.functions import udf, col, lit, translate, is_null, iff"
   ]
  },
  {
   "cell_type": "code",
   "execution_count": 2,
   "id": "685a3fe0",
   "metadata": {},
   "outputs": [
    {
     "name": "stdout",
     "output_type": "stream",
     "text": [
      "(0, 7, 0)\n"
     ]
    }
   ],
   "source": [
    "from snowflake.snowpark import version\n",
    "print(version.VERSION)"
   ]
  },
  {
   "cell_type": "markdown",
   "id": "1a36d1c4",
   "metadata": {},
   "source": [
    "Let's configure our Snowpark Session and initialize the database, warehouse, and schema that we will use for the remainder of the quickstart."
   ]
  },
  {
   "cell_type": "code",
   "execution_count": 3,
   "id": "24477372",
   "metadata": {},
   "outputs": [
    {
     "name": "stdout",
     "output_type": "stream",
     "text": [
      "(0, 7, 0)\n",
      "[Row(CURRENT_WAREHOUSE()='SNOWPARK_WH', CURRENT_DATABASE()='SNOWPARKDEMO_CHURN_DB', CURRENT_SCHEMA()='CHURN_CUSTOMER_SCHEMA')]\n"
     ]
    }
   ],
   "source": [
    "from snowflake.snowpark import version\n",
    "print(version.VERSION)\n",
    "#session.close()\n",
    "session = Session.builder.configs(snowflake_conn_prop).create()\n",
    "session.sql(\"use role accountadmin\").collect()\n",
    "session.sql(\"create database if not exists  {}\".format(snowflake_conn_prop['database'])).collect()\n",
    "session.sql(\"use database {}\".format(snowflake_conn_prop['database'])).collect()\n",
    "session.sql(\"create schema if not exists {}\".format(snowflake_conn_prop['schema'])).collect()\n",
    "session.sql(\"use schema {}\".format(snowflake_conn_prop['schema'])).collect()\n",
    "session.sql(\"create or replace warehouse {} with \\\n",
    "                WAREHOUSE_SIZE = XSMALL \\\n",
    "                AUTO_SUSPEND = 120 \\\n",
    "                AUTO_RESUME = TRUE\".format(snowflake_conn_prop['warehouse'])).collect()\n",
    "session.sql(\"use warehouse {}\".format(snowflake_conn_prop['warehouse']))\n",
    "print(session.sql('select current_warehouse(), current_database(), current_schema()').collect())"
   ]
  },
  {
   "cell_type": "markdown",
   "id": "5248d9b5",
   "metadata": {},
   "source": [
    "## Infer file schema & Load Data into snowflake"
   ]
  },
  {
   "cell_type": "code",
   "execution_count": 4,
   "id": "bcd15bb5",
   "metadata": {},
   "outputs": [],
   "source": [
    "filename = \"raw_telco_data.parquet\"\n",
    "stagename = \"rawdata\"\n",
    "rawtable = \"RAW_PARQUET_DATA\""
   ]
  },
  {
   "cell_type": "code",
   "execution_count": 5,
   "id": "2dc03ea3",
   "metadata": {},
   "outputs": [
    {
     "data": {
      "text/plain": [
       "[PutResult(source='raw_telco_data.parquet', target='raw_telco_data.parquet', source_size=3037540, target_size=3037552, source_compression='PARQUET', target_compression='PARQUET', status='UPLOADED', message='')]"
      ]
     },
     "execution_count": 5,
     "metadata": {},
     "output_type": "execute_result"
    }
   ],
   "source": [
    "session.sql(f\"create or replace stage {stagename} DIRECTORY = (ENABLE = TRUE);\").collect()\n",
    "session.file.put(filename,stagename)"
   ]
  },
  {
   "cell_type": "code",
   "execution_count": 6,
   "id": "e8845b13",
   "metadata": {},
   "outputs": [
    {
     "data": {
      "text/plain": [
       "[Row(status='Table RAW_PARQUET_DATA successfully created.')]"
      ]
     },
     "execution_count": 6,
     "metadata": {},
     "output_type": "execute_result"
    }
   ],
   "source": [
    "session.sql(\"CREATE OR REPLACE FILE FORMAT MY_PARQUET_FORMAT TYPE = PARQUET;\").collect()\n",
    "\n",
    "session.sql(f\"CREATE OR REPLACE \\\n",
    "            TABLE {rawtable} USING TEMPLATE ( \\\n",
    "                SELECT ARRAY_AGG(OBJECT_CONSTRUCT(*)) \\\n",
    "                FROM \\\n",
    "                    TABLE( INFER_SCHEMA( \\\n",
    "                    LOCATION => '@{stagename}/{filename}', \\\n",
    "                    FILE_FORMAT => 'MY_PARQUET_FORMAT' \\\n",
    "                    ) \\\n",
    "                ) \\\n",
    "            );  \").collect()"
   ]
  },
  {
   "cell_type": "markdown",
   "id": "b616dcda",
   "metadata": {},
   "source": [
    "## For incremental load \n",
    "\n",
    "you might want to just delete all rows and load new data to this table"
   ]
  },
  {
   "cell_type": "code",
   "execution_count": 7,
   "id": "c42a1a65",
   "metadata": {},
   "outputs": [],
   "source": [
    "dfClear = session.table(rawtable).delete()"
   ]
  },
  {
   "cell_type": "code",
   "execution_count": 8,
   "id": "bb5590f6",
   "metadata": {},
   "outputs": [
    {
     "data": {
      "text/plain": [
       "[Row(file='rawdata/raw_telco_data.parquet', status='LOADED', rows_parsed=100000, rows_loaded=100000, error_limit=1, errors_seen=0, first_error=None, first_error_line=None, first_error_character=None, first_error_column_name=None)]"
      ]
     },
     "execution_count": 8,
     "metadata": {},
     "output_type": "execute_result"
    }
   ],
   "source": [
    "dfRaw = session.read.option(\"compression\",\"snappy\").parquet(f\"@{stagename}/{filename}\")\n",
    "dfRaw.copy_into_table(rawtable,FORCE= True)"
   ]
  },
  {
   "cell_type": "code",
   "execution_count": 9,
   "id": "69a91e17",
   "metadata": {
    "scrolled": true
   },
   "outputs": [
    {
     "data": {
      "text/html": [
       "<div>\n",
       "<style scoped>\n",
       "    .dataframe tbody tr th:only-of-type {\n",
       "        vertical-align: middle;\n",
       "    }\n",
       "\n",
       "    .dataframe tbody tr th {\n",
       "        vertical-align: top;\n",
       "    }\n",
       "\n",
       "    .dataframe thead th {\n",
       "        text-align: right;\n",
       "    }\n",
       "</style>\n",
       "<table border=\"1\" class=\"dataframe\">\n",
       "  <thead>\n",
       "    <tr style=\"text-align: right;\">\n",
       "      <th></th>\n",
       "      <th>COUNTRY</th>\n",
       "      <th>CITY</th>\n",
       "      <th>PHONE SERVICE</th>\n",
       "      <th>MULTIPLE LINES</th>\n",
       "      <th>LATITUDE</th>\n",
       "      <th>ONLINE SECURITY</th>\n",
       "      <th>SENIOR CITIZEN</th>\n",
       "      <th>MONTHLY CHARGES</th>\n",
       "      <th>STREAMING MOVIES</th>\n",
       "      <th>PAYMENT METHOD</th>\n",
       "      <th>...</th>\n",
       "      <th>CHURN SCORE</th>\n",
       "      <th>GENDER</th>\n",
       "      <th>LONGITUDE</th>\n",
       "      <th>ONLINE BACKUP</th>\n",
       "      <th>TOTAL CHARGES</th>\n",
       "      <th>CLTV</th>\n",
       "      <th>CHURN REASON</th>\n",
       "      <th>DEVICE PROTECTION</th>\n",
       "      <th>STATE</th>\n",
       "      <th>ZIP CODE</th>\n",
       "    </tr>\n",
       "  </thead>\n",
       "  <tbody>\n",
       "    <tr>\n",
       "      <th>0</th>\n",
       "      <td>United States</td>\n",
       "      <td>Desert Hot Springs</td>\n",
       "      <td>No</td>\n",
       "      <td>No phone service</td>\n",
       "      <td>33.832799</td>\n",
       "      <td>Yes</td>\n",
       "      <td>False</td>\n",
       "      <td>47.60</td>\n",
       "      <td>No</td>\n",
       "      <td>Bank transfer (automatic)</td>\n",
       "      <td>...</td>\n",
       "      <td>0</td>\n",
       "      <td>Female</td>\n",
       "      <td>-116.250973</td>\n",
       "      <td>Yes</td>\n",
       "      <td>3377.80</td>\n",
       "      <td>4795</td>\n",
       "      <td>do not know</td>\n",
       "      <td>Yes</td>\n",
       "      <td>California</td>\n",
       "      <td>92241</td>\n",
       "    </tr>\n",
       "    <tr>\n",
       "      <th>1</th>\n",
       "      <td>United States</td>\n",
       "      <td>Sheridan</td>\n",
       "      <td>Yes</td>\n",
       "      <td>Yes</td>\n",
       "      <td>38.984756</td>\n",
       "      <td>Yes</td>\n",
       "      <td>False</td>\n",
       "      <td>90.45</td>\n",
       "      <td>Yes</td>\n",
       "      <td>Mailed check</td>\n",
       "      <td>...</td>\n",
       "      <td>0</td>\n",
       "      <td>Female</td>\n",
       "      <td>-121.345074</td>\n",
       "      <td>Yes</td>\n",
       "      <td>5957.90</td>\n",
       "      <td>5509</td>\n",
       "      <td>do not know</td>\n",
       "      <td>Yes</td>\n",
       "      <td>California</td>\n",
       "      <td>95681</td>\n",
       "    </tr>\n",
       "    <tr>\n",
       "      <th>2</th>\n",
       "      <td>United States</td>\n",
       "      <td>Ventura</td>\n",
       "      <td>Yes</td>\n",
       "      <td>No</td>\n",
       "      <td>34.360261</td>\n",
       "      <td>No internet service</td>\n",
       "      <td>False</td>\n",
       "      <td>19.90</td>\n",
       "      <td>No internet service</td>\n",
       "      <td>Mailed check</td>\n",
       "      <td>...</td>\n",
       "      <td>0</td>\n",
       "      <td>Male</td>\n",
       "      <td>-119.306383</td>\n",
       "      <td>No internet service</td>\n",
       "      <td>791.15</td>\n",
       "      <td>4041</td>\n",
       "      <td>do not know</td>\n",
       "      <td>No internet service</td>\n",
       "      <td>California</td>\n",
       "      <td>93001</td>\n",
       "    </tr>\n",
       "    <tr>\n",
       "      <th>3</th>\n",
       "      <td>United States</td>\n",
       "      <td>Riverside</td>\n",
       "      <td>Yes</td>\n",
       "      <td>No</td>\n",
       "      <td>33.994676</td>\n",
       "      <td>No</td>\n",
       "      <td>False</td>\n",
       "      <td>81.45</td>\n",
       "      <td>No</td>\n",
       "      <td>Electronic check</td>\n",
       "      <td>...</td>\n",
       "      <td>0</td>\n",
       "      <td>Male</td>\n",
       "      <td>-117.372498</td>\n",
       "      <td>No</td>\n",
       "      <td>912.00</td>\n",
       "      <td>2916</td>\n",
       "      <td>do not know</td>\n",
       "      <td>No</td>\n",
       "      <td>California</td>\n",
       "      <td>92501</td>\n",
       "    </tr>\n",
       "    <tr>\n",
       "      <th>4</th>\n",
       "      <td>United States</td>\n",
       "      <td>Van Nuys</td>\n",
       "      <td>Yes</td>\n",
       "      <td>No</td>\n",
       "      <td>34.195685</td>\n",
       "      <td>No internet service</td>\n",
       "      <td>False</td>\n",
       "      <td>20.75</td>\n",
       "      <td>No internet service</td>\n",
       "      <td>Credit card (automatic)</td>\n",
       "      <td>...</td>\n",
       "      <td>0</td>\n",
       "      <td>Male</td>\n",
       "      <td>-118.490752</td>\n",
       "      <td>No internet service</td>\n",
       "      <td>67.10</td>\n",
       "      <td>2406</td>\n",
       "      <td>do not know</td>\n",
       "      <td>No internet service</td>\n",
       "      <td>California</td>\n",
       "      <td>91406</td>\n",
       "    </tr>\n",
       "  </tbody>\n",
       "</table>\n",
       "<p>5 rows × 33 columns</p>\n",
       "</div>"
      ],
      "text/plain": [
       "         COUNTRY                CITY PHONE SERVICE    MULTIPLE LINES  \\\n",
       "0  United States  Desert Hot Springs            No  No phone service   \n",
       "1  United States            Sheridan           Yes               Yes   \n",
       "2  United States             Ventura           Yes                No   \n",
       "3  United States           Riverside           Yes                No   \n",
       "4  United States            Van Nuys           Yes                No   \n",
       "\n",
       "    LATITUDE      ONLINE SECURITY  SENIOR CITIZEN  MONTHLY CHARGES  \\\n",
       "0  33.832799                  Yes           False            47.60   \n",
       "1  38.984756                  Yes           False            90.45   \n",
       "2  34.360261  No internet service           False            19.90   \n",
       "3  33.994676                   No           False            81.45   \n",
       "4  34.195685  No internet service           False            20.75   \n",
       "\n",
       "      STREAMING MOVIES             PAYMENT METHOD  ... CHURN SCORE  GENDER  \\\n",
       "0                   No  Bank transfer (automatic)  ...           0  Female   \n",
       "1                  Yes               Mailed check  ...           0  Female   \n",
       "2  No internet service               Mailed check  ...           0    Male   \n",
       "3                   No           Electronic check  ...           0    Male   \n",
       "4  No internet service    Credit card (automatic)  ...           0    Male   \n",
       "\n",
       "     LONGITUDE        ONLINE BACKUP  TOTAL CHARGES  CLTV CHURN REASON  \\\n",
       "0  -116.250973                  Yes        3377.80  4795  do not know   \n",
       "1  -121.345074                  Yes        5957.90  5509  do not know   \n",
       "2  -119.306383  No internet service         791.15  4041  do not know   \n",
       "3  -117.372498                   No         912.00  2916  do not know   \n",
       "4  -118.490752  No internet service          67.10  2406  do not know   \n",
       "\n",
       "     DEVICE PROTECTION       STATE  ZIP CODE  \n",
       "0                  Yes  California     92241  \n",
       "1                  Yes  California     95681  \n",
       "2  No internet service  California     93001  \n",
       "3                   No  California     92501  \n",
       "4  No internet service  California     91406  \n",
       "\n",
       "[5 rows x 33 columns]"
      ]
     },
     "execution_count": 9,
     "metadata": {},
     "output_type": "execute_result"
    }
   ],
   "source": [
    "dfR = session.table(rawtable).sample(n=5)\n",
    "dfR.toPandas()"
   ]
  },
  {
   "cell_type": "code",
   "execution_count": 10,
   "id": "af045ff0",
   "metadata": {},
   "outputs": [],
   "source": [
    "session.close()"
   ]
  },
  {
   "cell_type": "code",
   "execution_count": null,
   "id": "059e1224",
   "metadata": {},
   "outputs": [],
   "source": []
  }
 ],
 "metadata": {
  "kernelspec": {
   "display_name": "getting_started_snowpark_python",
   "language": "python",
   "name": "getting_started_snowpark_python"
  },
  "language_info": {
   "codemirror_mode": {
    "name": "ipython",
    "version": 3
   },
   "file_extension": ".py",
   "mimetype": "text/x-python",
   "name": "python",
   "nbconvert_exporter": "python",
   "pygments_lexer": "ipython3",
   "version": "3.8.13"
  }
 },
 "nbformat": 4,
 "nbformat_minor": 5
}
